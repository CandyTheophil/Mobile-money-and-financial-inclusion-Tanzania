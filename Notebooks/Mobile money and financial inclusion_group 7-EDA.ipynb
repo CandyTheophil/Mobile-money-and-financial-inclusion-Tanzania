{
 "cells": [
  {
   "cell_type": "markdown",
   "id": "65e6ce3d",
   "metadata": {},
   "source": [
    "## Explolatory Data Analysis For Mobile Money and Financial Inclusion In Tanzania Dataset"
   ]
  },
  {
   "cell_type": "markdown",
   "id": "5bb8a44c",
   "metadata": {},
   "source": [
    "### Understand The Problem Statement\n",
    "A small percent of people in Tanzania have bank accounts and a lot more of Tanzanians who don’t have bank accounts do other types of formal financial services, primarily, mobile money.\n",
    "\n",
    "Mobile money has become an important entry point to financial inclusion for people who have been traditionally excluded from the formal financial systems in Africa. It is increasingly becoming a platform for people to access a broad range of financial services.\n",
    "\n",
    "This means mobile money clients and markets are increasing exponentially all over Tanzania and hence mobile money providers need a way to be able to thoroughly target the said increasing markets and clients for better effectiveness.\n",
    "\n",
    "By predicting which individuals are most likely to use mobile money, a precise target area can also be attained.\n"
   ]
  },
  {
   "cell_type": "markdown",
   "id": "d2ea9e23",
   "metadata": {},
   "source": [
    "### Type of the Problem\n",
    "It is a classification problem where we have to predict which individuals are most likely to use mobile money.\n",
    "\n",
    "The goal is to accurately classify each individual into four groups;\n",
    "\n",
    "1.Individuals who do not use mobile money, do not save, do not have credit, and do not have insurance.\n",
    "\n",
    "2.Individuals who do not use mobile money but use at least one of the other financial services.\n",
    "\n",
    "3.Individuals who use mobile money only\n",
    "\n",
    "4.Individuals who use mobile money and at least one other financial service"
   ]
  },
  {
   "cell_type": "markdown",
   "id": "9807b68e",
   "metadata": {},
   "source": [
    "### Hypothesis Generation\n",
    "1.People with age above 60 will not have both mobile money and other financial service.\n",
    "\n",
    "2.People with lower education level are less likely to possess mobile money.\n",
    "\n",
    "3.People with mobile phones are most likely to use mobile money.\n",
    "\n",
    "4.Almost everyone who gets money through salaries/wages is less likely to use mobile money only.\n",
    "\n",
    "5.Almost everyone who works for government has insurance."
   ]
  },
  {
   "cell_type": "markdown",
   "id": "7aeb94c9",
   "metadata": {},
   "source": [
    "### Load Python Packages"
   ]
  },
  {
   "cell_type": "code",
   "execution_count": 108,
   "id": "d2640645",
   "metadata": {},
   "outputs": [],
   "source": [
    "# import important modules \n",
    "\n",
    "import pandas as pd\n",
    "import numpy as np\n",
    "import matplotlib.pyplot as plt\n",
    "import seaborn as sns  \n",
    "plt.rcParams[\"axes.labelsize\"] = 18\n",
    "import warnings\n",
    "warnings.filterwarnings('ignore')\n",
    "%matplotlib inline "
   ]
  },
  {
   "cell_type": "markdown",
   "id": "a770b1e0",
   "metadata": {},
   "source": [
    "### Load Dataset"
   ]
  },
  {
   "cell_type": "code",
   "execution_count": 109,
   "id": "01e16a93",
   "metadata": {},
   "outputs": [],
   "source": [
    "# Import data\n",
    "data = pd.read_csv('training.csv')\n"
   ]
  },
  {
   "cell_type": "code",
   "execution_count": 110,
   "id": "40d34e4a",
   "metadata": {},
   "outputs": [
    {
     "name": "stdout",
     "output_type": "stream",
     "text": [
      "train data shape : (7094, 37)\n"
     ]
    }
   ],
   "source": [
    "# print shape \n",
    "print('train data shape :', data.shape)"
   ]
  },
  {
   "cell_type": "code",
   "execution_count": 111,
   "id": "832f4899",
   "metadata": {},
   "outputs": [
    {
     "data": {
      "text/html": [
       "<div>\n",
       "<style scoped>\n",
       "    .dataframe tbody tr th:only-of-type {\n",
       "        vertical-align: middle;\n",
       "    }\n",
       "\n",
       "    .dataframe tbody tr th {\n",
       "        vertical-align: top;\n",
       "    }\n",
       "\n",
       "    .dataframe thead th {\n",
       "        text-align: right;\n",
       "    }\n",
       "</style>\n",
       "<table border=\"1\" class=\"dataframe\">\n",
       "  <thead>\n",
       "    <tr style=\"text-align: right;\">\n",
       "      <th></th>\n",
       "      <th>ID</th>\n",
       "      <th>Q1</th>\n",
       "      <th>Q2</th>\n",
       "      <th>Q3</th>\n",
       "      <th>Q4</th>\n",
       "      <th>Q5</th>\n",
       "      <th>Q6</th>\n",
       "      <th>Q7</th>\n",
       "      <th>Q8_1</th>\n",
       "      <th>Q8_2</th>\n",
       "      <th>...</th>\n",
       "      <th>Q17</th>\n",
       "      <th>Q18</th>\n",
       "      <th>Q19</th>\n",
       "      <th>Latitude</th>\n",
       "      <th>Longitude</th>\n",
       "      <th>mobile_money</th>\n",
       "      <th>savings</th>\n",
       "      <th>borrowing</th>\n",
       "      <th>insurance</th>\n",
       "      <th>mobile_money_classification</th>\n",
       "    </tr>\n",
       "  </thead>\n",
       "  <tbody>\n",
       "    <tr>\n",
       "      <th>0</th>\n",
       "      <td>5086</td>\n",
       "      <td>98</td>\n",
       "      <td>2</td>\n",
       "      <td>3</td>\n",
       "      <td>1</td>\n",
       "      <td>1</td>\n",
       "      <td>2</td>\n",
       "      <td>2</td>\n",
       "      <td>0</td>\n",
       "      <td>0</td>\n",
       "      <td>...</td>\n",
       "      <td>-1</td>\n",
       "      <td>4</td>\n",
       "      <td>4</td>\n",
       "      <td>-4.460442</td>\n",
       "      <td>29.811396</td>\n",
       "      <td>0</td>\n",
       "      <td>0</td>\n",
       "      <td>0</td>\n",
       "      <td>0</td>\n",
       "      <td>0</td>\n",
       "    </tr>\n",
       "    <tr>\n",
       "      <th>1</th>\n",
       "      <td>1258</td>\n",
       "      <td>40</td>\n",
       "      <td>1</td>\n",
       "      <td>1</td>\n",
       "      <td>3</td>\n",
       "      <td>5</td>\n",
       "      <td>1</td>\n",
       "      <td>1</td>\n",
       "      <td>1</td>\n",
       "      <td>0</td>\n",
       "      <td>...</td>\n",
       "      <td>4</td>\n",
       "      <td>1</td>\n",
       "      <td>4</td>\n",
       "      <td>-6.176438</td>\n",
       "      <td>39.244871</td>\n",
       "      <td>1</td>\n",
       "      <td>1</td>\n",
       "      <td>1</td>\n",
       "      <td>0</td>\n",
       "      <td>3</td>\n",
       "    </tr>\n",
       "    <tr>\n",
       "      <th>2</th>\n",
       "      <td>331</td>\n",
       "      <td>18</td>\n",
       "      <td>2</td>\n",
       "      <td>4</td>\n",
       "      <td>6</td>\n",
       "      <td>3</td>\n",
       "      <td>2</td>\n",
       "      <td>1</td>\n",
       "      <td>0</td>\n",
       "      <td>0</td>\n",
       "      <td>...</td>\n",
       "      <td>-1</td>\n",
       "      <td>1</td>\n",
       "      <td>1</td>\n",
       "      <td>-6.825702</td>\n",
       "      <td>37.652798</td>\n",
       "      <td>1</td>\n",
       "      <td>0</td>\n",
       "      <td>0</td>\n",
       "      <td>0</td>\n",
       "      <td>2</td>\n",
       "    </tr>\n",
       "    <tr>\n",
       "      <th>3</th>\n",
       "      <td>6729</td>\n",
       "      <td>50</td>\n",
       "      <td>1</td>\n",
       "      <td>1</td>\n",
       "      <td>3</td>\n",
       "      <td>1</td>\n",
       "      <td>1</td>\n",
       "      <td>1</td>\n",
       "      <td>0</td>\n",
       "      <td>0</td>\n",
       "      <td>...</td>\n",
       "      <td>-1</td>\n",
       "      <td>1</td>\n",
       "      <td>4</td>\n",
       "      <td>-3.372049</td>\n",
       "      <td>35.808307</td>\n",
       "      <td>1</td>\n",
       "      <td>0</td>\n",
       "      <td>1</td>\n",
       "      <td>0</td>\n",
       "      <td>3</td>\n",
       "    </tr>\n",
       "    <tr>\n",
       "      <th>4</th>\n",
       "      <td>8671</td>\n",
       "      <td>34</td>\n",
       "      <td>1</td>\n",
       "      <td>1</td>\n",
       "      <td>1</td>\n",
       "      <td>1</td>\n",
       "      <td>2</td>\n",
       "      <td>1</td>\n",
       "      <td>0</td>\n",
       "      <td>1</td>\n",
       "      <td>...</td>\n",
       "      <td>-1</td>\n",
       "      <td>1</td>\n",
       "      <td>4</td>\n",
       "      <td>-7.179645</td>\n",
       "      <td>31.039095</td>\n",
       "      <td>1</td>\n",
       "      <td>1</td>\n",
       "      <td>0</td>\n",
       "      <td>1</td>\n",
       "      <td>3</td>\n",
       "    </tr>\n",
       "  </tbody>\n",
       "</table>\n",
       "<p>5 rows × 37 columns</p>\n",
       "</div>"
      ],
      "text/plain": [
       "     ID  Q1  Q2  Q3  Q4  Q5  Q6  Q7  Q8_1  Q8_2  ...  Q17  Q18  Q19  Latitude  \\\n",
       "0  5086  98   2   3   1   1   2   2     0     0  ...   -1    4    4 -4.460442   \n",
       "1  1258  40   1   1   3   5   1   1     1     0  ...    4    1    4 -6.176438   \n",
       "2   331  18   2   4   6   3   2   1     0     0  ...   -1    1    1 -6.825702   \n",
       "3  6729  50   1   1   3   1   1   1     0     0  ...   -1    1    4 -3.372049   \n",
       "4  8671  34   1   1   1   1   2   1     0     1  ...   -1    1    4 -7.179645   \n",
       "\n",
       "   Longitude  mobile_money  savings  borrowing  insurance  \\\n",
       "0  29.811396             0        0          0          0   \n",
       "1  39.244871             1        1          1          0   \n",
       "2  37.652798             1        0          0          0   \n",
       "3  35.808307             1        0          1          0   \n",
       "4  31.039095             1        1          0          1   \n",
       "\n",
       "   mobile_money_classification  \n",
       "0                            0  \n",
       "1                            3  \n",
       "2                            2  \n",
       "3                            3  \n",
       "4                            3  \n",
       "\n",
       "[5 rows x 37 columns]"
      ]
     },
     "execution_count": 111,
     "metadata": {},
     "output_type": "execute_result"
    }
   ],
   "source": [
    "# Inspect Data by shing the first five rows \n",
    "data.head()"
   ]
  },
  {
   "cell_type": "markdown",
   "id": "185c89cf",
   "metadata": {},
   "source": [
    "### Explolatory Data Analysis (overview)"
   ]
  },
  {
   "cell_type": "code",
   "execution_count": 112,
   "id": "af9b96f6",
   "metadata": {},
   "outputs": [
    {
     "data": {
      "text/plain": [
       "['ID',\n",
       " 'Q1',\n",
       " 'Q2',\n",
       " 'Q3',\n",
       " 'Q4',\n",
       " 'Q5',\n",
       " 'Q6',\n",
       " 'Q7',\n",
       " 'Q8_1',\n",
       " 'Q8_2',\n",
       " 'Q8_3',\n",
       " 'Q8_4',\n",
       " 'Q8_5',\n",
       " 'Q8_6',\n",
       " 'Q8_7',\n",
       " 'Q8_8',\n",
       " 'Q8_9',\n",
       " 'Q8_10',\n",
       " 'Q8_11',\n",
       " 'Q9',\n",
       " 'Q10',\n",
       " 'Q11',\n",
       " 'Q12',\n",
       " 'Q13',\n",
       " 'Q14',\n",
       " 'Q15',\n",
       " 'Q16',\n",
       " 'Q17',\n",
       " 'Q18',\n",
       " 'Q19',\n",
       " 'Latitude',\n",
       " 'Longitude',\n",
       " 'mobile_money',\n",
       " 'savings',\n",
       " 'borrowing',\n",
       " 'insurance',\n",
       " 'mobile_money_classification']"
      ]
     },
     "execution_count": 112,
     "metadata": {},
     "output_type": "execute_result"
    }
   ],
   "source": [
    "#show list of columns \n",
    "list(data.columns)  "
   ]
  },
  {
   "cell_type": "code",
   "execution_count": 113,
   "id": "2f67953f",
   "metadata": {},
   "outputs": [
    {
     "name": "stdout",
     "output_type": "stream",
     "text": [
      "<class 'pandas.core.frame.DataFrame'>\n",
      "RangeIndex: 7094 entries, 0 to 7093\n",
      "Data columns (total 37 columns):\n",
      " #   Column                       Non-Null Count  Dtype  \n",
      "---  ------                       --------------  -----  \n",
      " 0   ID                           7094 non-null   int64  \n",
      " 1   Q1                           7094 non-null   int64  \n",
      " 2   Q2                           7094 non-null   int64  \n",
      " 3   Q3                           7094 non-null   int64  \n",
      " 4   Q4                           7094 non-null   int64  \n",
      " 5   Q5                           7094 non-null   int64  \n",
      " 6   Q6                           7094 non-null   int64  \n",
      " 7   Q7                           7094 non-null   int64  \n",
      " 8   Q8_1                         7094 non-null   int64  \n",
      " 9   Q8_2                         7094 non-null   int64  \n",
      " 10  Q8_3                         7094 non-null   int64  \n",
      " 11  Q8_4                         7094 non-null   int64  \n",
      " 12  Q8_5                         7094 non-null   int64  \n",
      " 13  Q8_6                         7094 non-null   int64  \n",
      " 14  Q8_7                         7094 non-null   int64  \n",
      " 15  Q8_8                         7094 non-null   int64  \n",
      " 16  Q8_9                         7094 non-null   int64  \n",
      " 17  Q8_10                        7094 non-null   int64  \n",
      " 18  Q8_11                        7094 non-null   int64  \n",
      " 19  Q9                           7094 non-null   int64  \n",
      " 20  Q10                          7094 non-null   int64  \n",
      " 21  Q11                          7094 non-null   int64  \n",
      " 22  Q12                          7094 non-null   int64  \n",
      " 23  Q13                          7094 non-null   int64  \n",
      " 24  Q14                          7094 non-null   int64  \n",
      " 25  Q15                          7094 non-null   int64  \n",
      " 26  Q16                          7094 non-null   int64  \n",
      " 27  Q17                          7094 non-null   int64  \n",
      " 28  Q18                          7094 non-null   int64  \n",
      " 29  Q19                          7094 non-null   int64  \n",
      " 30  Latitude                     7094 non-null   float64\n",
      " 31  Longitude                    7094 non-null   float64\n",
      " 32  mobile_money                 7094 non-null   int64  \n",
      " 33  savings                      7094 non-null   int64  \n",
      " 34  borrowing                    7094 non-null   int64  \n",
      " 35  insurance                    7094 non-null   int64  \n",
      " 36  mobile_money_classification  7094 non-null   int64  \n",
      "dtypes: float64(2), int64(35)\n",
      "memory usage: 2.0 MB\n",
      "None\n"
     ]
    }
   ],
   "source": [
    "## show Some information about the dataset \n",
    "print(data.info())"
   ]
  },
  {
   "cell_type": "code",
   "execution_count": 114,
   "id": "7f74b7bc",
   "metadata": {},
   "outputs": [
    {
     "name": "stdout",
     "output_type": "stream",
     "text": [
      "missing values: ID                             0\n",
      "Q1                             0\n",
      "Q2                             0\n",
      "Q3                             0\n",
      "Q4                             0\n",
      "Q5                             0\n",
      "Q6                             0\n",
      "Q7                             0\n",
      "Q8_1                           0\n",
      "Q8_2                           0\n",
      "Q8_3                           0\n",
      "Q8_4                           0\n",
      "Q8_5                           0\n",
      "Q8_6                           0\n",
      "Q8_7                           0\n",
      "Q8_8                           0\n",
      "Q8_9                           0\n",
      "Q8_10                          0\n",
      "Q8_11                          0\n",
      "Q9                             0\n",
      "Q10                            0\n",
      "Q11                            0\n",
      "Q12                            0\n",
      "Q13                            0\n",
      "Q14                            0\n",
      "Q15                            0\n",
      "Q16                            0\n",
      "Q17                            0\n",
      "Q18                            0\n",
      "Q19                            0\n",
      "Latitude                       0\n",
      "Longitude                      0\n",
      "mobile_money                   0\n",
      "savings                        0\n",
      "borrowing                      0\n",
      "insurance                      0\n",
      "mobile_money_classification    0\n",
      "dtype: int64\n"
     ]
    }
   ],
   "source": [
    "# Check for missing values\n",
    "print('missing values:', data.isnull().sum())"
   ]
  },
  {
   "cell_type": "markdown",
   "id": "76243669",
   "metadata": {},
   "source": [
    "#### Univariate Analysis"
   ]
  },
  {
   "cell_type": "code",
   "execution_count": 115,
   "id": "bb1988f7",
   "metadata": {},
   "outputs": [
    {
     "data": {
      "text/plain": [
       "3    3126\n",
       "1    1778\n",
       "0    1386\n",
       "2     804\n",
       "Name: mobile_money_classification, dtype: int64"
      ]
     },
     "execution_count": 115,
     "metadata": {},
     "output_type": "execute_result"
    }
   ],
   "source": [
    "# Frequency table of a variable will give us the count of each category in that Target variable.\n",
    "data['mobile_money_classification'].value_counts() "
   ]
  },
  {
   "cell_type": "code",
   "execution_count": 116,
   "id": "c05af889",
   "metadata": {},
   "outputs": [
    {
     "data": {
      "text/plain": [
       "<seaborn.axisgrid.FacetGrid at 0x157b2dc79a0>"
      ]
     },
     "execution_count": 116,
     "metadata": {},
     "output_type": "execute_result"
    },
    {
     "data": {
      "image/png": "[encoded data removed]",
      "text/plain": [
       "<Figure size 360x360 with 1 Axes>"
      ]
     },
     "metadata": {
      "needs_background": "light"
     },
     "output_type": "display_data"
    }
   ],
   "source": [
    "# Explore Target distribution \n",
    "\n",
    "sns.catplot(x=\"mobile_money_classification\", kind=\"count\", data= data)"
   ]
  },
  {
   "cell_type": "markdown",
   "id": "0d12077f",
   "metadata": {},
   "source": [
    "##### Where;\n",
    "\n",
    "0 - no mobile money and no other financial service (saving, borrowing, insurance)\n",
    "\n",
    "1 - no mobile money, but at least one other financial service\n",
    "\n",
    "2 - mobile money only\n",
    "\n",
    "3  - mobile money and at least one other financial service\n"
   ]
  },
  {
   "cell_type": "code",
   "execution_count": 117,
   "id": "caeda76b",
   "metadata": {},
   "outputs": [
    {
     "data": {
      "text/plain": [
       "Text(0.5, 6.79999999999999, 'Gender')"
      ]
     },
     "execution_count": 117,
     "metadata": {},
     "output_type": "execute_result"
    },
    {
     "data": {
      "image/png": "[encoded data removed]",
      "text/plain": [
       "<Figure size 360x360 with 1 Axes>"
      ]
     },
     "metadata": {
      "needs_background": "light"
     },
     "output_type": "display_data"
    }
   ],
   "source": [
    "\n",
    "\n",
    "\n",
    "\n",
    "# Explore Q2 distribution \n",
    "\n",
    "sns.catplot(x=\"Q2\", kind=\"count\", data=data)\n",
    "plt.xlabel('Gender')"
   ]
  },
  {
   "cell_type": "markdown",
   "id": "b29b1946",
   "metadata": {},
   "source": [
    "##### Where;\n",
    "\n",
    "1 - Male\n",
    "\n",
    "2 - Female\n"
   ]
  },
  {
   "cell_type": "code",
   "execution_count": 118,
   "id": "15cb0a5f",
   "metadata": {},
   "outputs": [
    {
     "data": {
      "text/plain": [
       "Text(0.5, 6.79999999999999, 'Marital Status')"
      ]
     },
     "execution_count": 118,
     "metadata": {},
     "output_type": "execute_result"
    },
    {
     "data": {
      "image/png": "[encoded data removed]",
      "text/plain": [
       "<Figure size 360x360 with 1 Axes>"
      ]
     },
     "metadata": {
      "needs_background": "light"
     },
     "output_type": "display_data"
    }
   ],
   "source": [
    "# Explore Q3 distribution \n",
    "\n",
    "sns.catplot(x=\"Q3\", kind=\"count\", data=data)\n",
    "plt.xlabel('Marital Status')"
   ]
  },
  {
   "cell_type": "markdown",
   "id": "102381ee",
   "metadata": {},
   "source": [
    "##### Where;\n",
    "\n",
    "1 - Married\n",
    "\n",
    "2 - Divorced\n",
    "\n",
    "3 - Widowed\n",
    "\n",
    "4 - Single/never married\n",
    "\n"
   ]
  },
  {
   "cell_type": "code",
   "execution_count": 119,
   "id": "596f576a",
   "metadata": {},
   "outputs": [
    {
     "data": {
      "text/plain": [
       "Text(0.5, 6.79999999999999, 'Highest level of education completed')"
      ]
     },
     "execution_count": 119,
     "metadata": {},
     "output_type": "execute_result"
    },
    {
     "data": {
      "image/png": "[encoded data removed]",
      "text/plain": [
       "<Figure size 360x360 with 1 Axes>"
      ]
     },
     "metadata": {
      "needs_background": "light"
     },
     "output_type": "display_data"
    }
   ],
   "source": [
    "# Explore Q4 distribution \n",
    "\n",
    "sns.catplot(x=\"Q4\", kind=\"count\", data=data)\n",
    "plt.xlabel('Highest level of education completed')"
   ]
  },
  {
   "cell_type": "markdown",
   "id": "3708eec6",
   "metadata": {},
   "source": [
    "##### Where;\n",
    "\n",
    "1 - No formal education\n",
    "\n",
    "2 - Some primary\n",
    "\n",
    "3 - Primary completed\n",
    "\n",
    "4 - Post primary technical training\n",
    "\n",
    "5 - Some secondary\n",
    "\n",
    "6 - University or other higher education\n",
    "\n",
    "7 - Don’t know\n"
   ]
  },
  {
   "cell_type": "code",
   "execution_count": 120,
   "id": "8518d60b",
   "metadata": {},
   "outputs": [
    {
     "data": {
      "text/plain": [
       "Text(0.5, 6.79999999999999, 'Land/Plot ownership')"
      ]
     },
     "execution_count": 120,
     "metadata": {},
     "output_type": "execute_result"
    },
    {
     "data": {
      "image/png": "[encoded data removed]",
      "text/plain": [
       "<Figure size 360x360 with 1 Axes>"
      ]
     },
     "metadata": {
      "needs_background": "light"
     },
     "output_type": "display_data"
    }
   ],
   "source": [
    "# Explore Q5 distribution \n",
    "\n",
    "sns.catplot(x=\"Q5\", kind=\"count\", data=data)\n",
    "plt.xlabel('Land/Plot ownership')"
   ]
  },
  {
   "cell_type": "markdown",
   "id": "7d24569c",
   "metadata": {},
   "source": [
    "##### Where;\n",
    "\n",
    "1 - You personally own the land/plot where you live\n",
    "\n",
    "2 - You own the land/plot together with someone else \n",
    "\n",
    "3 - A household member owns the land/plot \n",
    "\n",
    "4 - The land/plot is rented \n",
    "\n",
    "5 - You don’t own or rent the land \n",
    "\n",
    "6 - Don’t know\n"
   ]
  },
  {
   "cell_type": "code",
   "execution_count": 121,
   "id": "b0aab5cb",
   "metadata": {},
   "outputs": [
    {
     "data": {
      "text/plain": [
       "Text(0.5, 6.79999999999999, 'Other land ownership')"
      ]
     },
     "execution_count": 121,
     "metadata": {},
     "output_type": "execute_result"
    },
    {
     "data": {
      "image/png": "[encoded data removed]",
      "text/plain": [
       "<Figure size 360x360 with 1 Axes>"
      ]
     },
     "metadata": {
      "needs_background": "light"
     },
     "output_type": "display_data"
    }
   ],
   "source": [
    "# Explore Q6 distribution \n",
    "\n",
    "sns.catplot(x=\"Q6\", kind=\"count\", data=data)\n",
    "plt.xlabel('Other land ownership')"
   ]
  },
  {
   "cell_type": "markdown",
   "id": "10084c7e",
   "metadata": {},
   "source": [
    "##### Where;\n",
    "\n",
    "1 - Yes\n",
    "\n",
    "2 - No\n"
   ]
  },
  {
   "cell_type": "code",
   "execution_count": 122,
   "id": "5bfeaf73",
   "metadata": {},
   "outputs": [
    {
     "data": {
      "text/plain": [
       "Text(0.5, 6.79999999999999, 'Mobile phone ownership')"
      ]
     },
     "execution_count": 122,
     "metadata": {},
     "output_type": "execute_result"
    },
    {
     "data": {
      "image/png": "[encoded data removed]",
      "text/plain": [
       "<Figure size 360x360 with 1 Axes>"
      ]
     },
     "metadata": {
      "needs_background": "light"
     },
     "output_type": "display_data"
    }
   ],
   "source": [
    "# Explore Q7 distribution \n",
    "\n",
    "sns.catplot(x=\"Q7\", kind=\"count\", data=data)\n",
    "plt.xlabel('Mobile phone ownership')"
   ]
  },
  {
   "cell_type": "markdown",
   "id": "89624288",
   "metadata": {},
   "source": [
    "##### Where;\n",
    "\n",
    "1 - Yes\n",
    "\n",
    "2 - No\n"
   ]
  },
  {
   "cell_type": "markdown",
   "id": "0f3b049e",
   "metadata": {},
   "source": [
    "#### Q8_1 through Q8_11;\n",
    "\n",
    "People were asked how they got the money they spend.\n"
   ]
  },
  {
   "cell_type": "code",
   "execution_count": 123,
   "id": "625b7bf8",
   "metadata": {},
   "outputs": [
    {
     "data": {
      "text/plain": [
       "Text(0.5, 6.79999999999999, 'Salaries/Wages')"
      ]
     },
     "execution_count": 123,
     "metadata": {},
     "output_type": "execute_result"
    },
    {
     "data": {
      "image/png": "[encoded data removed]",
      "text/plain": [
       "<Figure size 360x360 with 1 Axes>"
      ]
     },
     "metadata": {
      "needs_background": "light"
     },
     "output_type": "display_data"
    }
   ],
   "source": [
    "# Explore Q8_1 distribution \n",
    "\n",
    "sns.catplot(x=\"Q8_1\", kind=\"count\", data=data)\n",
    "plt.xlabel('Salaries/Wages')"
   ]
  },
  {
   "cell_type": "markdown",
   "id": "dc84a8a2",
   "metadata": {},
   "source": [
    "##### Where;\n",
    "\n",
    "1 - Yes\n",
    "\n",
    "0 - No\n"
   ]
  },
  {
   "cell_type": "code",
   "execution_count": 124,
   "id": "7b66f13d",
   "metadata": {},
   "outputs": [
    {
     "data": {
      "text/plain": [
       "Text(0.5, 6.79999999999999, 'Trading/Selling')"
      ]
     },
     "execution_count": 124,
     "metadata": {},
     "output_type": "execute_result"
    },
    {
     "data": {
      "image/png": "[encoded data removed]",
      "text/plain": [
       "<Figure size 360x360 with 1 Axes>"
      ]
     },
     "metadata": {
      "needs_background": "light"
     },
     "output_type": "display_data"
    }
   ],
   "source": [
    "# Explore Q8_2 distribution \n",
    "\n",
    "sns.catplot(x=\"Q8_2\", kind=\"count\", data=data)\n",
    "plt.xlabel('Trading/Selling')"
   ]
  },
  {
   "cell_type": "markdown",
   "id": "3f73c5d4",
   "metadata": {},
   "source": [
    "##### Where;\n",
    "\n",
    "1 - Yes\n",
    "\n",
    "0 - No"
   ]
  },
  {
   "cell_type": "code",
   "execution_count": 125,
   "id": "b8e7e7e9",
   "metadata": {
    "scrolled": true
   },
   "outputs": [
    {
     "data": {
      "text/plain": [
       "Text(0.5, 6.79999999999999, 'Service Provision')"
      ]
     },
     "execution_count": 125,
     "metadata": {},
     "output_type": "execute_result"
    },
    {
     "data": {
      "image/png": "[encoded data removed]",
      "text/plain": [
       "<Figure size 360x360 with 1 Axes>"
      ]
     },
     "metadata": {
      "needs_background": "light"
     },
     "output_type": "display_data"
    }
   ],
   "source": [
    "# Explore Q8_3 distribution \n",
    "\n",
    "sns.catplot(x=\"Q8_3\", kind=\"count\", data=data)\n",
    "plt.xlabel('Service Provision')"
   ]
  },
  {
   "cell_type": "markdown",
   "id": "cf42ef1b",
   "metadata": {},
   "source": [
    "##### Where;\n",
    "\n",
    "1 - Yes\n",
    "\n",
    "0 - No"
   ]
  },
  {
   "cell_type": "code",
   "execution_count": 126,
   "id": "98e7b89c",
   "metadata": {},
   "outputs": [
    {
     "data": {
      "text/plain": [
       "Text(0.5, 6.79999999999999, 'Piece work/Casual labor/Occasional jobs')"
      ]
     },
     "execution_count": 126,
     "metadata": {},
     "output_type": "execute_result"
    },
    {
     "data": {
      "image/png": "[encoded data removed]",
      "text/plain": [
       "<Figure size 360x360 with 1 Axes>"
      ]
     },
     "metadata": {
      "needs_background": "light"
     },
     "output_type": "display_data"
    }
   ],
   "source": [
    "# Explore Q8_4 distribution \n",
    "\n",
    "sns.catplot(x=\"Q8_4\", kind=\"count\", data=data)\n",
    "plt.xlabel('Piece work/Casual labor/Occasional jobs')"
   ]
  },
  {
   "cell_type": "markdown",
   "id": "8bdbf472",
   "metadata": {},
   "source": [
    "##### Where;\n",
    "\n",
    "1 - Yes\n",
    "\n",
    "0 - No"
   ]
  },
  {
   "cell_type": "code",
   "execution_count": 127,
   "id": "1ed82233",
   "metadata": {},
   "outputs": [
    {
     "data": {
      "text/plain": [
       "Text(0.5, 6.79999999999999, 'Rental Income')"
      ]
     },
     "execution_count": 127,
     "metadata": {},
     "output_type": "execute_result"
    },
    {
     "data": {
      "image/png": "[encoded data removed]",
      "text/plain": [
       "<Figure size 360x360 with 1 Axes>"
      ]
     },
     "metadata": {
      "needs_background": "light"
     },
     "output_type": "display_data"
    }
   ],
   "source": [
    "# Explore Q8_5 distribution \n",
    "\n",
    "sns.catplot(x=\"Q8_5\", kind=\"count\", data=data)\n",
    "plt.xlabel('Rental Income')"
   ]
  },
  {
   "cell_type": "markdown",
   "id": "ab669f1d",
   "metadata": {},
   "source": [
    "##### Where;\n",
    "\n",
    "1 - Yes\n",
    "\n",
    "0 - No"
   ]
  },
  {
   "cell_type": "code",
   "execution_count": 128,
   "id": "234e82e5",
   "metadata": {},
   "outputs": [
    {
     "data": {
      "text/plain": [
       "Text(0.5, 6.79999999999999, 'Interest from savings, investments, stocks, unit trusts etc.')"
      ]
     },
     "execution_count": 128,
     "metadata": {},
     "output_type": "execute_result"
    },
    {
     "data": {
      "image/png": "[encoded data removed]",
      "text/plain": [
       "<Figure size 360x360 with 1 Axes>"
      ]
     },
     "metadata": {
      "needs_background": "light"
     },
     "output_type": "display_data"
    }
   ],
   "source": [
    "# Explore Q8_6 distribution \n",
    "\n",
    "sns.catplot(x=\"Q8_6\", kind=\"count\", data=data)\n",
    "plt.xlabel('Interest from savings, investments, stocks, unit trusts etc.')"
   ]
  },
  {
   "cell_type": "markdown",
   "id": "b32978f5",
   "metadata": {},
   "source": [
    "##### Where;\n",
    "\n",
    "1 - Yes\n",
    "\n",
    "0 - No"
   ]
  },
  {
   "cell_type": "code",
   "execution_count": 129,
   "id": "fa743f84",
   "metadata": {},
   "outputs": [
    {
     "data": {
      "text/plain": [
       "Text(0.5, 6.79999999999999, 'Pension')"
      ]
     },
     "execution_count": 129,
     "metadata": {},
     "output_type": "execute_result"
    },
    {
     "data": {
      "image/png": "[encoded data removed]",
      "text/plain": [
       "<Figure size 360x360 with 1 Axes>"
      ]
     },
     "metadata": {
      "needs_background": "light"
     },
     "output_type": "display_data"
    }
   ],
   "source": [
    "# Explore Q8_7 distribution \n",
    "\n",
    "sns.catplot(x=\"Q8_7\", kind=\"count\", data=data)\n",
    "plt.xlabel('Pension')"
   ]
  },
  {
   "cell_type": "markdown",
   "id": "d39fdaa7",
   "metadata": {},
   "source": [
    "##### Where;\n",
    "\n",
    "1 - Yes\n",
    "\n",
    "0 - No"
   ]
  },
  {
   "cell_type": "code",
   "execution_count": 130,
   "id": "51d28530",
   "metadata": {},
   "outputs": [
    {
     "data": {
      "text/plain": [
       "Text(0.5, 6.79999999999999, 'Social welfare money/grant from Government')"
      ]
     },
     "execution_count": 130,
     "metadata": {},
     "output_type": "execute_result"
    },
    {
     "data": {
      "image/png": "[encoded data removed]",
      "text/plain": [
       "<Figure size 360x360 with 1 Axes>"
      ]
     },
     "metadata": {
      "needs_background": "light"
     },
     "output_type": "display_data"
    }
   ],
   "source": [
    "# Explore Q8_8 distribution \n",
    "\n",
    "sns.catplot(x=\"Q8_8\", kind=\"count\", data=data)\n",
    "plt.xlabel('Social welfare money/grant from Government')"
   ]
  },
  {
   "cell_type": "markdown",
   "id": "4759c3dc",
   "metadata": {},
   "source": [
    "##### Where;\n",
    "\n",
    "1 - Yes\n",
    "\n",
    "0 - No"
   ]
  },
  {
   "cell_type": "code",
   "execution_count": 131,
   "id": "56fa733d",
   "metadata": {},
   "outputs": [
    {
     "data": {
      "text/plain": [
       "Text(0.5, 6.79999999999999, 'Someone else/Others')"
      ]
     },
     "execution_count": 131,
     "metadata": {},
     "output_type": "execute_result"
    },
    {
     "data": {
      "image/png": "[encoded data removed]",
      "text/plain": [
       "<Figure size 360x360 with 1 Axes>"
      ]
     },
     "metadata": {
      "needs_background": "light"
     },
     "output_type": "display_data"
    }
   ],
   "source": [
    "# Explore Q8_9 distribution \n",
    "\n",
    "sns.catplot(x=\"Q8_9\", kind=\"count\", data=data)\n",
    "plt.xlabel('Someone else/Others')"
   ]
  },
  {
   "cell_type": "markdown",
   "id": "9c55dc42",
   "metadata": {},
   "source": [
    "##### Where;\n",
    "\n",
    "1 - Yes\n",
    "\n",
    "0 - No"
   ]
  },
  {
   "cell_type": "code",
   "execution_count": 132,
   "id": "35c927a9",
   "metadata": {},
   "outputs": [
    {
     "data": {
      "text/plain": [
       "Text(0.5, 6.79999999999999, 'Does Not Spend')"
      ]
     },
     "execution_count": 132,
     "metadata": {},
     "output_type": "execute_result"
    },
    {
     "data": {
      "image/png": "[encoded data removed]",
      "text/plain": [
       "<Figure size 360x360 with 1 Axes>"
      ]
     },
     "metadata": {
      "needs_background": "light"
     },
     "output_type": "display_data"
    }
   ],
   "source": [
    "# Explore Q8_10 distribution \n",
    "\n",
    "sns.catplot(x=\"Q8_10\", kind=\"count\", data=data)\n",
    "plt.xlabel('Does Not Spend')"
   ]
  },
  {
   "cell_type": "markdown",
   "id": "eb6d2c1a",
   "metadata": {},
   "source": [
    "##### Where;\n",
    "\n",
    "1 - Yes\n",
    "\n",
    "0 - No"
   ]
  },
  {
   "cell_type": "code",
   "execution_count": 133,
   "id": "ba3cdff7",
   "metadata": {},
   "outputs": [
    {
     "data": {
      "text/plain": [
       "Text(0.5, 6.79999999999999, 'Other')"
      ]
     },
     "execution_count": 133,
     "metadata": {},
     "output_type": "execute_result"
    },
    {
     "data": {
      "image/png": "[encoded data removed]",
      "text/plain": [
       "<Figure size 360x360 with 1 Axes>"
      ]
     },
     "metadata": {
      "needs_background": "light"
     },
     "output_type": "display_data"
    }
   ],
   "source": [
    "# Explore Q8_11 distribution \n",
    "\n",
    "sns.catplot(x=\"Q8_11\", kind=\"count\", data=data)\n",
    "plt.xlabel('Other')"
   ]
  },
  {
   "cell_type": "markdown",
   "id": "2cad178c",
   "metadata": {},
   "source": [
    "##### Where;\n",
    "\n",
    "1 - Yes\n",
    "\n",
    "0 - No"
   ]
  },
  {
   "cell_type": "markdown",
   "id": "2fa3a845",
   "metadata": {},
   "source": [
    "#### Q9;\n",
    "\n",
    "Only for those who said they get money through salary/wages.\n",
    "\n"
   ]
  },
  {
   "cell_type": "code",
   "execution_count": 134,
   "id": "57579a50",
   "metadata": {},
   "outputs": [
    {
     "data": {
      "text/plain": [
       "Text(0.5, 6.79999999999999, 'Who do you work for?')"
      ]
     },
     "execution_count": 134,
     "metadata": {},
     "output_type": "execute_result"
    },
    {
     "data": {
      "image/png": "[encoded data removed]",
      "text/plain": [
       "<Figure size 360x360 with 1 Axes>"
      ]
     },
     "metadata": {
      "needs_background": "light"
     },
     "output_type": "display_data"
    }
   ],
   "source": [
    "# Explore Q9 distribution \n",
    "\n",
    "sns.catplot(x=\"Q9\", kind=\"count\", data=data)\n",
    "plt.xlabel('Who do you work for?')"
   ]
  },
  {
   "cell_type": "markdown",
   "id": "234fe948",
   "metadata": {},
   "source": [
    "##### Where;\n",
    "\n",
    "-1 - not applicable\n",
    "\n",
    "1 - Government\n",
    "\n",
    "2 - Private company/business\n",
    "\n",
    "3 - Individual who owns his own business\n",
    "\n",
    "4 - Small scale farmer\n",
    "\n",
    "5 - Commercial farmer\n",
    "\n",
    "6 - Work for individual/household e.g. security guard, maid etc. \n",
    "\n",
    "7 - Other\n"
   ]
  },
  {
   "cell_type": "markdown",
   "id": "049e9418",
   "metadata": {},
   "source": [
    "#### Q10;\n",
    "\n",
    "Only for those who said they get money from selling things."
   ]
  },
  {
   "cell_type": "code",
   "execution_count": 135,
   "id": "82ba8395",
   "metadata": {
    "scrolled": false
   },
   "outputs": [
    {
     "data": {
      "text/plain": [
       "Text(0.5, 6.79999999999999, 'Things MAINLY sold')"
      ]
     },
     "execution_count": 135,
     "metadata": {},
     "output_type": "execute_result"
    },
    {
     "data": {
      "image/png": "[encoded data removed]",
      "text/plain": [
       "<Figure size 360x360 with 1 Axes>"
      ]
     },
     "metadata": {
      "needs_background": "light"
     },
     "output_type": "display_data"
    }
   ],
   "source": [
    "# Explore Q10 distribution \n",
    "\n",
    "sns.catplot(x=\"Q10\", kind=\"count\", data=data)\n",
    "plt.xlabel('Things MAINLY sold')"
   ]
  },
  {
   "cell_type": "markdown",
   "id": "88542b7b",
   "metadata": {},
   "source": [
    "##### Where;\n",
    "-1 - not applicable\n",
    "\n",
    "1 - Crops/produce I grow\n",
    "\n",
    "2 - Products I get from livestock\n",
    "\n",
    "3 - Livestock \n",
    "\n",
    "4 - Fish you catch yourself/aquaculture \n",
    "\n",
    "5 - Things you buy from others – agricultural products\n",
    "\n",
    "6 - Things you buy from others – non-agricultural products\n",
    "\n",
    "7 - Things you make (clothes, art, crafts)\n",
    "\n",
    "8 - Things you collect from nature (stones, sand, thatch, herbs)\n",
    "\n",
    "9 - Things you process (honey, dairy products, flour)\n",
    "\n",
    "10 - Other\n"
   ]
  },
  {
   "cell_type": "markdown",
   "id": "318ff3e7",
   "metadata": {},
   "source": [
    "#### Q11;\n",
    "\n",
    "Only for those who said they get money from providing a service "
   ]
  },
  {
   "cell_type": "code",
   "execution_count": 136,
   "id": "103857b5",
   "metadata": {
    "scrolled": false
   },
   "outputs": [
    {
     "data": {
      "text/plain": [
       "Text(0.5, 6.79999999999999, 'Services MAINLY provided')"
      ]
     },
     "execution_count": 136,
     "metadata": {},
     "output_type": "execute_result"
    },
    {
     "data": {
      "image/png": "[encoded data removed]",
      "text/plain": [
       "<Figure size 360x360 with 1 Axes>"
      ]
     },
     "metadata": {
      "needs_background": "light"
     },
     "output_type": "display_data"
    }
   ],
   "source": [
    "# Explore Q11 distribution \n",
    "\n",
    "sns.catplot(x=\"Q11\", kind=\"count\", data=data)\n",
    "plt.xlabel('Services MAINLY provided')"
   ]
  },
  {
   "cell_type": "markdown",
   "id": "1ae4ace6",
   "metadata": {},
   "source": [
    "##### Where;\n",
    "-1 - not applicable\n",
    "\n",
    "1 - Personal services (hairdressers, massage, etc.) \n",
    "\n",
    "2 - Telecommunications/IT\n",
    "\n",
    "3 - Financial services \n",
    "\n",
    "4 - Transport\n",
    "\n",
    "5 - Hospitality – Accommodation, restaurants, etc. \n",
    "\n",
    "6 - Information/research\n",
    "\n",
    "7 - Technical – mechanic, etc.\n",
    "\n",
    "8 - Educational/child care\n",
    "\n",
    "9 - Health services – traditional healer etc.\n",
    "\n",
    "10 - Legal services \n",
    "\n",
    "11 - Security \n",
    "\n",
    "12 - Other, specify\n"
   ]
  },
  {
   "cell_type": "code",
   "execution_count": 137,
   "id": "e5717b35",
   "metadata": {
    "scrolled": true
   },
   "outputs": [
    {
     "data": {
      "text/plain": [
       "Text(0.5, 6.79999999999999, 'If money was sent in the past 12 months')"
      ]
     },
     "execution_count": 137,
     "metadata": {},
     "output_type": "execute_result"
    },
    {
     "data": {
      "image/png": "[encoded data removed]",
      "text/plain": [
       "<Figure size 360x360 with 1 Axes>"
      ]
     },
     "metadata": {
      "needs_background": "light"
     },
     "output_type": "display_data"
    }
   ],
   "source": [
    "# Explore Q12 distribution \n",
    "\n",
    "sns.catplot(x=\"Q12\", kind=\"count\", data=data)\n",
    "plt.xlabel('If money was sent in the past 12 months')"
   ]
  },
  {
   "cell_type": "markdown",
   "id": "51dbd551",
   "metadata": {},
   "source": [
    "##### Where;\n",
    "\n",
    "1 Yes\n",
    "\n",
    "2 No\n"
   ]
  },
  {
   "cell_type": "code",
   "execution_count": 138,
   "id": "07f43fee",
   "metadata": {
    "scrolled": true
   },
   "outputs": [
    {
     "data": {
      "text/plain": [
       "Text(0.5, 6.79999999999999, 'When money was last sent')"
      ]
     },
     "execution_count": 138,
     "metadata": {},
     "output_type": "execute_result"
    },
    {
     "data": {
      "image/png": "[encoded data removed]",
      "text/plain": [
       "<Figure size 360x360 with 1 Axes>"
      ]
     },
     "metadata": {
      "needs_background": "light"
     },
     "output_type": "display_data"
    }
   ],
   "source": [
    "# Explore Q13 distribution \n",
    "\n",
    "sns.catplot(x=\"Q13\", kind=\"count\", data=data)\n",
    "plt.xlabel('When money was last sent')"
   ]
  },
  {
   "cell_type": "markdown",
   "id": "34e01713",
   "metadata": {},
   "source": [
    "##### Where;\n",
    "\n",
    "-1 - not applicable\n",
    "\n",
    "1 - Yesterday/today \n",
    "\n",
    "2 - In the past 7 days\n",
    "\n",
    "3 - In the past 30 days \n",
    "\n",
    "4 - In the past 90 days\n",
    "\n",
    "5 - More than 90 days ago but less than 6 months ago  \n",
    "\n",
    "6 - 6 months or longer ago\n"
   ]
  },
  {
   "cell_type": "code",
   "execution_count": 139,
   "id": "36e1b50d",
   "metadata": {},
   "outputs": [
    {
     "data": {
      "text/plain": [
       "Text(0.5, 6.79999999999999, 'If money was received in the past 12 months from a different place within or outside the country')"
      ]
     },
     "execution_count": 139,
     "metadata": {},
     "output_type": "execute_result"
    },
    {
     "data": {
      "image/png": "[encoded data removed]",
      "text/plain": [
       "<Figure size 360x360 with 1 Axes>"
      ]
     },
     "metadata": {
      "needs_background": "light"
     },
     "output_type": "display_data"
    }
   ],
   "source": [
    "# Explore Q14 distribution \n",
    "\n",
    "sns.catplot(x=\"Q14\", kind=\"count\", data=data)\n",
    "plt.xlabel('If money was received in the past 12 months from a different place within or outside the country')"
   ]
  },
  {
   "cell_type": "markdown",
   "id": "2e7f5d42",
   "metadata": {},
   "source": [
    "##### Where;\n",
    "\n",
    "1 Yes\n",
    "\n",
    "2 No\n"
   ]
  },
  {
   "cell_type": "code",
   "execution_count": 140,
   "id": "54735fef",
   "metadata": {
    "scrolled": false
   },
   "outputs": [
    {
     "data": {
      "text/plain": [
       "Text(0.5, 6.79999999999999, 'When they last received money')"
      ]
     },
     "execution_count": 140,
     "metadata": {},
     "output_type": "execute_result"
    },
    {
     "data": {
      "image/png": "[encoded data removed]",
      "text/plain": [
       "<Figure size 360x360 with 1 Axes>"
      ]
     },
     "metadata": {
      "needs_background": "light"
     },
     "output_type": "display_data"
    }
   ],
   "source": [
    "# Explore Q15 distribution \n",
    "\n",
    "sns.catplot(x=\"Q15\", kind=\"count\", data=data)\n",
    "plt.xlabel('When they last received money')"
   ]
  },
  {
   "cell_type": "markdown",
   "id": "adede166",
   "metadata": {},
   "source": [
    "#### Where;\n",
    "\n",
    "-1 - not applicable\n",
    "\n",
    "1 - Yesterday/today \n",
    "\n",
    "2 - In the past 7 days\n",
    "\n",
    "3 - In the past 30 days\n",
    "\n",
    "4 - In the past 90 days\n",
    "\n",
    "5 - More than 90 days ago but less than 6 months ago  \n",
    "\n",
    "6 - 6 months or longer ago\n"
   ]
  },
  {
   "cell_type": "code",
   "execution_count": 141,
   "id": "23e0a4a5",
   "metadata": {
    "scrolled": true
   },
   "outputs": [
    {
     "data": {
      "text/plain": [
       "Text(0.5, 6.79999999999999, 'How often in the past 12 months, mobile money was used for purchases of goods and/or services')"
      ]
     },
     "execution_count": 141,
     "metadata": {},
     "output_type": "execute_result"
    },
    {
     "data": {
      "image/png": "[encoded data removed]",
      "text/plain": [
       "<Figure size 360x360 with 1 Axes>"
      ]
     },
     "metadata": {
      "needs_background": "light"
     },
     "output_type": "display_data"
    }
   ],
   "source": [
    "# Explore Q16 distribution \n",
    "\n",
    "sns.catplot(x=\"Q16\", kind=\"count\", data=data)\n",
    "plt.xlabel('How often in the past 12 months, mobile money was used for purchases of goods and/or services')"
   ]
  },
  {
   "cell_type": "markdown",
   "id": "5efb01ef",
   "metadata": {},
   "source": [
    "##### Where;\n",
    "-1 - not applicable\n",
    "\n",
    "1 - Never\n",
    "\n",
    "2 - Daily \n",
    "\n",
    "3 - Weekly \n",
    "\n",
    "4 - Monthly \n",
    "\n",
    "5 - Less often than monthly\n"
   ]
  },
  {
   "cell_type": "code",
   "execution_count": 142,
   "id": "4801c19c",
   "metadata": {
    "scrolled": true
   },
   "outputs": [
    {
     "data": {
      "text/plain": [
       "Text(0.5, 6.79999999999999, 'How often mobile money was used for paying bills in the last 12 months')"
      ]
     },
     "execution_count": 142,
     "metadata": {},
     "output_type": "execute_result"
    },
    {
     "data": {
      "image/png": "[encoded data removed]",
      "text/plain": [
       "<Figure size 360x360 with 1 Axes>"
      ]
     },
     "metadata": {
      "needs_background": "light"
     },
     "output_type": "display_data"
    }
   ],
   "source": [
    "# Explore Q17 distribution \n",
    "\n",
    "sns.catplot(x=\"Q17\", kind=\"count\", data=data)\n",
    "plt.xlabel('How often mobile money was used for paying bills in the last 12 months')"
   ]
  },
  {
   "cell_type": "markdown",
   "id": "f027617a",
   "metadata": {},
   "source": [
    "##### Where;\n",
    "\n",
    "-1 - not applicable\n",
    "\n",
    "1 - Never\n",
    "\n",
    "2 - Daily \n",
    "\n",
    "3 - Weekly\n",
    "\n",
    "4 - Monthly \n",
    "\n",
    "5 - Less often than monthly\n"
   ]
  },
  {
   "cell_type": "code",
   "execution_count": 143,
   "id": "4e8c8d49",
   "metadata": {},
   "outputs": [
    {
     "data": {
      "text/plain": [
       "Text(0.5, 6.79999999999999, 'Literacy in Kiswahili')"
      ]
     },
     "execution_count": 143,
     "metadata": {},
     "output_type": "execute_result"
    },
    {
     "data": {
      "image/png": "[encoded data removed]",
      "text/plain": [
       "<Figure size 360x360 with 1 Axes>"
      ]
     },
     "metadata": {
      "needs_background": "light"
     },
     "output_type": "display_data"
    }
   ],
   "source": [
    "# Explore Q18 distribution \n",
    "\n",
    "sns.catplot(x=\"Q18\", kind=\"count\", data=data)\n",
    "plt.xlabel('Literacy in Kiswahili')"
   ]
  },
  {
   "cell_type": "markdown",
   "id": "32eef94f",
   "metadata": {},
   "source": [
    "##### Where;\n",
    "1 - Can read and write  \n",
    "2 - Can read only  \n",
    "3 - Can write only  \n",
    "4 - Can neither read nor write  \n",
    "5 - Refused to read\n"
   ]
  },
  {
   "cell_type": "code",
   "execution_count": 144,
   "id": "1d36f708",
   "metadata": {
    "scrolled": true
   },
   "outputs": [
    {
     "data": {
      "text/plain": [
       "Text(0.5, 6.79999999999999, 'Literacy in English')"
      ]
     },
     "execution_count": 144,
     "metadata": {},
     "output_type": "execute_result"
    },
    {
     "data": {
      "image/png": "[encoded data removed]",
      "text/plain": [
       "<Figure size 360x360 with 1 Axes>"
      ]
     },
     "metadata": {
      "needs_background": "light"
     },
     "output_type": "display_data"
    }
   ],
   "source": [
    "# Explore Q19 distribution \n",
    "\n",
    "sns.catplot(x=\"Q19\", kind=\"count\", data=data)\n",
    "plt.xlabel('Literacy in English')"
   ]
  },
  {
   "cell_type": "markdown",
   "id": "e6cbd754",
   "metadata": {},
   "source": [
    "##### Where;\n",
    "\n",
    "1 - Can read and write  \n",
    "2 - Can read only  \n",
    "3 - Can write only  \n",
    "4 - Can neither read nor write  \n",
    "5 - Refused to read\n"
   ]
  },
  {
   "cell_type": "code",
   "execution_count": 145,
   "id": "15344f08",
   "metadata": {},
   "outputs": [
    {
     "data": {
      "text/plain": [
       "<seaborn.axisgrid.FacetGrid at 0x157b88e31c0>"
      ]
     },
     "execution_count": 145,
     "metadata": {},
     "output_type": "execute_result"
    },
    {
     "data": {
      "image/png": "[encoded data removed]",
      "text/plain": [
       "<Figure size 360x360 with 1 Axes>"
      ]
     },
     "metadata": {
      "needs_background": "light"
     },
     "output_type": "display_data"
    }
   ],
   "source": [
    "# Explore mobile_money distribution \n",
    "\n",
    "sns.catplot(x=\"mobile_money\", kind=\"count\", data=data)"
   ]
  },
  {
   "cell_type": "markdown",
   "id": "19fd3905",
   "metadata": {},
   "source": [
    "##### Where;\n",
    "\n",
    "1 - Yes\n",
    "\n",
    "0 - No\n"
   ]
  },
  {
   "cell_type": "code",
   "execution_count": 146,
   "id": "24c1ae05",
   "metadata": {},
   "outputs": [
    {
     "data": {
      "text/plain": [
       "<seaborn.axisgrid.FacetGrid at 0x157b58e1820>"
      ]
     },
     "execution_count": 146,
     "metadata": {},
     "output_type": "execute_result"
    },
    {
     "data": {
      "image/png": "[encoded data removed]",
      "text/plain": [
       "<Figure size 360x360 with 1 Axes>"
      ]
     },
     "metadata": {
      "needs_background": "light"
     },
     "output_type": "display_data"
    }
   ],
   "source": [
    "# Explore Savings distribution \n",
    "\n",
    "sns.catplot(x=\"savings\", kind=\"count\", data=data)"
   ]
  },
  {
   "cell_type": "markdown",
   "id": "87e432e6",
   "metadata": {},
   "source": [
    "##### Where;\n",
    "\n",
    "1 - Yes\n",
    "\n",
    "0 - No\n"
   ]
  },
  {
   "cell_type": "code",
   "execution_count": 147,
   "id": "ca0f9d5a",
   "metadata": {},
   "outputs": [
    {
     "data": {
      "text/plain": [
       "<seaborn.axisgrid.FacetGrid at 0x157b8aa4730>"
      ]
     },
     "execution_count": 147,
     "metadata": {},
     "output_type": "execute_result"
    },
    {
     "data": {
      "image/png": "[encoded data removed]",
      "text/plain": [
       "<Figure size 360x360 with 1 Axes>"
      ]
     },
     "metadata": {
      "needs_background": "light"
     },
     "output_type": "display_data"
    }
   ],
   "source": [
    "# Explore Borrowing distribution \n",
    "\n",
    "sns.catplot(x=\"borrowing\", kind=\"count\", data=data)"
   ]
  },
  {
   "cell_type": "markdown",
   "id": "31216b34",
   "metadata": {},
   "source": [
    "##### Where;\n",
    "\n",
    "1 - Yes\n",
    "\n",
    "0 - No\n"
   ]
  },
  {
   "cell_type": "code",
   "execution_count": 148,
   "id": "050b841e",
   "metadata": {
    "scrolled": true
   },
   "outputs": [
    {
     "data": {
      "text/plain": [
       "<seaborn.axisgrid.FacetGrid at 0x157b8bbdbb0>"
      ]
     },
     "execution_count": 148,
     "metadata": {},
     "output_type": "execute_result"
    },
    {
     "data": {
      "image/png": "[encoded data removed]",
      "text/plain": [
       "<Figure size 360x360 with 1 Axes>"
      ]
     },
     "metadata": {
      "needs_background": "light"
     },
     "output_type": "display_data"
    }
   ],
   "source": [
    "# Explore Insurance distribution \n",
    "\n",
    "sns.catplot(x=\"insurance\", kind=\"count\", data=data)"
   ]
  },
  {
   "cell_type": "markdown",
   "id": "5cac7fbe",
   "metadata": {},
   "source": [
    "##### Where;\n",
    "\n",
    "1 - Yes\n",
    "\n",
    "0 - No\n"
   ]
  },
  {
   "cell_type": "code",
   "execution_count": 149,
   "id": "eac16c34",
   "metadata": {},
   "outputs": [
    {
     "data": {
      "text/plain": [
       "Text(0.5, 0, 'Age')"
      ]
     },
     "execution_count": 149,
     "metadata": {},
     "output_type": "execute_result"
    },
    {
     "data": {
      "image/png": "[encoded data removed]",
      "text/plain": [
       "<Figure size 1152x432 with 1 Axes>"
      ]
     },
     "metadata": {
      "needs_background": "light"
     },
     "output_type": "display_data"
    }
   ],
   "source": [
    "# Explore Q1 distribution \n",
    "plt.figure(figsize=(16, 6))\n",
    "data.Q1.hist() \n",
    "plt.xlabel('Age')"
   ]
  },
  {
   "cell_type": "code",
   "execution_count": 150,
   "id": "ea9b3ee7",
   "metadata": {},
   "outputs": [
    {
     "data": {
      "text/plain": [
       "Text(0.5, 0, 'Longitude')"
      ]
     },
     "execution_count": 150,
     "metadata": {},
     "output_type": "execute_result"
    },
    {
     "data": {
      "image/png": "[encoded data removed]",
      "text/plain": [
       "<Figure size 1152x432 with 1 Axes>"
      ]
     },
     "metadata": {
      "needs_background": "light"
     },
     "output_type": "display_data"
    }
   ],
   "source": [
    "# Explore Longitude distribution \n",
    "plt.figure(figsize=(16, 6))\n",
    "data.Longitude.hist() \n",
    "plt.xlabel('Longitude')"
   ]
  },
  {
   "cell_type": "code",
   "execution_count": 151,
   "id": "91ad30ff",
   "metadata": {},
   "outputs": [
    {
     "data": {
      "text/plain": [
       "Text(0.5, 0, 'Latitude')"
      ]
     },
     "execution_count": 151,
     "metadata": {},
     "output_type": "execute_result"
    },
    {
     "data": {
      "image/png": "[encoded data removed]",
      "text/plain": [
       "<Figure size 1152x432 with 1 Axes>"
      ]
     },
     "metadata": {
      "needs_background": "light"
     },
     "output_type": "display_data"
    }
   ],
   "source": [
    "# Explore Latitude distribution \n",
    "plt.figure(figsize=(16, 6))\n",
    "data.Latitude.hist() \n",
    "plt.xlabel('Latitude')"
   ]
  },
  {
   "cell_type": "markdown",
   "id": "2cd12ba9",
   "metadata": {},
   "source": [
    "#### Bivariate Analysis"
   ]
  },
  {
   "cell_type": "code",
   "execution_count": 152,
   "id": "4d523a19",
   "metadata": {},
   "outputs": [
    {
     "data": {
      "text/plain": [
       "Text(0.5, 0, 'Gender')"
      ]
     },
     "execution_count": 152,
     "metadata": {},
     "output_type": "execute_result"
    },
    {
     "data": {
      "image/png": "[encoded data removed]",
      "text/plain": [
       "<Figure size 1152x432 with 1 Axes>"
      ]
     },
     "metadata": {
      "needs_background": "light"
     },
     "output_type": "display_data"
    }
   ],
   "source": [
    "#Explore Q2  vs  mobile_money_classification\n",
    "\n",
    "plt.figure(figsize=(16, 6))\n",
    "sns.countplot('Q2', hue= 'mobile_money_classification', data=data)\n",
    "plt.xticks(\n",
    "    fontweight='light',\n",
    "    fontsize='x-large'  \n",
    ")\n",
    "plt.xlabel('Gender')"
   ]
  },
  {
   "cell_type": "markdown",
   "id": "0046300c",
   "metadata": {},
   "source": [
    "##### Where;\n",
    "1 - Male\n",
    "\n",
    "2 - Female\n",
    "##### And;\n",
    "\n",
    "0 - no mobile money and no other financial service (saving, borrowing, insurance)\n",
    "\n",
    "1 - no mobile money, but at least one other financial service\n",
    "\n",
    "2 - mobile money only\n",
    "\n",
    "3 - mobile money and at least one other financial service\n",
    "\n"
   ]
  },
  {
   "cell_type": "code",
   "execution_count": 153,
   "id": "a0b0834c",
   "metadata": {
    "scrolled": true
   },
   "outputs": [
    {
     "data": {
      "text/plain": [
       "Text(0.5, 0, 'Marital Status')"
      ]
     },
     "execution_count": 153,
     "metadata": {},
     "output_type": "execute_result"
    },
    {
     "data": {
      "image/png": "[encoded data removed]",
      "text/plain": [
       "<Figure size 1152x432 with 1 Axes>"
      ]
     },
     "metadata": {
      "needs_background": "light"
     },
     "output_type": "display_data"
    }
   ],
   "source": [
    "#Explore Q3  vs  mobile_money_classification\n",
    "\n",
    "plt.figure(figsize=(16, 6))\n",
    "sns.countplot('Q3', hue= 'mobile_money_classification', data=data)\n",
    "plt.xticks(\n",
    "    fontweight='light',\n",
    "    fontsize='x-large'  \n",
    ")\n",
    "plt.xlabel('Marital Status')"
   ]
  },
  {
   "cell_type": "markdown",
   "id": "893c7bc3",
   "metadata": {},
   "source": [
    "##### Where;\n",
    "1 - Married\n",
    "\n",
    "2 - Divorced\n",
    "\n",
    "3 - Widowed\n",
    "\n",
    "4 - Single/never married\n",
    "##### And;\n",
    "0 - no mobile money and no other financial service (saving, borrowing, insurance)\n",
    "\n",
    "1 - no mobile money, but at least one other financial service\n",
    "\n",
    "2 - mobile money only\n",
    "\n",
    "3 - mobile money and at least one other financial service\n"
   ]
  },
  {
   "cell_type": "code",
   "execution_count": 154,
   "id": "a4866bf7",
   "metadata": {},
   "outputs": [
    {
     "data": {
      "image/png": "[encoded data removed]",
      "text/plain": [
       "<Figure size 720x504 with 1 Axes>"
      ]
     },
     "metadata": {
      "needs_background": "light"
     },
     "output_type": "display_data"
    }
   ],
   "source": [
    "# Hypothesis 1\n",
    "# People with age above 60 will not have both mobile money and other financial service.\n",
    "\n",
    "plt.figure(figsize = (10,7))\n",
    "sns.boxplot(x=data['mobile_money_classification'], y=data['Q1'], data=data)\n",
    "plt.ylabel('Age')\n",
    "plt.show()"
   ]
  },
  {
   "cell_type": "markdown",
   "id": "9fbffc8a",
   "metadata": {},
   "source": [
    "##### Where;\n",
    "0 - no mobile money and no other financial service (saving, borrowing, insurance)\n",
    "\n",
    "1 - no mobile money, but at least one other financial service\n",
    "\n",
    "2 - mobile money only\n",
    "\n",
    "3 - mobile money and at least one other financial service\n"
   ]
  },
  {
   "cell_type": "code",
   "execution_count": 155,
   "id": "61362e14",
   "metadata": {},
   "outputs": [
    {
     "data": {
      "text/plain": [
       "Text(0.5, 0, 'Highest Level of Education')"
      ]
     },
     "execution_count": 155,
     "metadata": {},
     "output_type": "execute_result"
    },
    {
     "data": {
      "image/png": "[encoded data removed]",
      "text/plain": [
       "<Figure size 1152x432 with 1 Axes>"
      ]
     },
     "metadata": {
      "needs_background": "light"
     },
     "output_type": "display_data"
    }
   ],
   "source": [
    "# Hypothesis 2\n",
    "# People with lower education level are more likely to possess mobile money.\n",
    "# Explore Q4  vs  mobile_money\n",
    "\n",
    "plt.figure(figsize=(16, 6))\n",
    "sns.countplot('Q4', hue= 'mobile_money', data=data)\n",
    "plt.xticks(\n",
    "    fontweight='light',\n",
    "    fontsize='x-large'  \n",
    ")\n",
    "plt.xlabel('Highest Level of Education')"
   ]
  },
  {
   "cell_type": "markdown",
   "id": "cce8968b",
   "metadata": {},
   "source": [
    "##### Where;\n",
    "1 - No formal education\n",
    "\n",
    "2 - Some primary\n",
    "\n",
    "3 - Primary completed\n",
    "\n",
    "4 - Post primary technical training\n",
    "\n",
    "5 - Some secondary\n",
    "\n",
    "6 - University or other higher education\n",
    "\n",
    "7 - Don’t know\n",
    "##### And;\n",
    "1 - Yes\n",
    "\n",
    "0 - No\n"
   ]
  },
  {
   "cell_type": "code",
   "execution_count": 156,
   "id": "19dfe0dc",
   "metadata": {
    "scrolled": true
   },
   "outputs": [
    {
     "data": {
      "text/plain": [
       "Text(0.5, 0, 'Mobile phone ownership')"
      ]
     },
     "execution_count": 156,
     "metadata": {},
     "output_type": "execute_result"
    },
    {
     "data": {
      "image/png": "[encoded data removed]",
      "text/plain": [
       "<Figure size 1152x432 with 1 Axes>"
      ]
     },
     "metadata": {
      "needs_background": "light"
     },
     "output_type": "display_data"
    }
   ],
   "source": [
    "# Hypothesis 3\n",
    "# People with no mobile phones are most likely to not use mobile money.\n",
    "# Explore Q7  vs  mobile_money\n",
    "plt.figure(figsize=(16, 6))\n",
    "sns.countplot('Q7', hue= 'mobile_money', data=data)\n",
    "plt.xticks(\n",
    "    fontweight='light',\n",
    "    fontsize='x-large'  \n",
    ")\n",
    "plt.xlabel('Mobile phone ownership')"
   ]
  },
  {
   "cell_type": "markdown",
   "id": "3fb38e86",
   "metadata": {},
   "source": [
    "##### Where;\n",
    "1 - Yes\n",
    "\n",
    "2 - No\n",
    "##### And;\n",
    "1 - Yes\n",
    "\n",
    "0 - No\n"
   ]
  },
  {
   "cell_type": "code",
   "execution_count": 157,
   "id": "0aceba21",
   "metadata": {
    "scrolled": true
   },
   "outputs": [
    {
     "data": {
      "text/plain": [
       "Text(0.5, 0, 'Salaries/wages')"
      ]
     },
     "execution_count": 157,
     "metadata": {},
     "output_type": "execute_result"
    },
    {
     "data": {
      "image/png": "[encoded data removed]",
      "text/plain": [
       "<Figure size 1152x432 with 1 Axes>"
      ]
     },
     "metadata": {
      "needs_background": "light"
     },
     "output_type": "display_data"
    }
   ],
   "source": [
    "# Hypothesis 4\n",
    "# Almost everyone who gets money through salaries/wages is less likely to use mobile money only.\n",
    "# Explore Q8_1  vs  mobile_money_classification\n",
    "\n",
    "plt.figure(figsize=(16, 6))\n",
    "sns.countplot('Q8_1', hue= 'mobile_money_classification', data=data)\n",
    "plt.xticks(\n",
    "    fontweight='light',\n",
    "    fontsize='x-large'  \n",
    ")\n",
    "plt.xlabel('Salaries/wages')"
   ]
  },
  {
   "cell_type": "markdown",
   "id": "abf199ef",
   "metadata": {},
   "source": [
    "##### Where;\n",
    "1 - Yes\n",
    "0 - No\n",
    "##### And;\n",
    "0 - no mobile money and no other financial service (saving, borrowing, insurance)\n",
    "\n",
    "1 - no mobile money, but at least one other financial service\n",
    "\n",
    "2 - mobile money only\n",
    "\n",
    "3 - mobile money and at least one other financial service\n",
    "\n"
   ]
  },
  {
   "cell_type": "code",
   "execution_count": 158,
   "id": "f45f5d41",
   "metadata": {
    "scrolled": true
   },
   "outputs": [
    {
     "data": {
      "text/plain": [
       "Text(0.5, 0, 'Who do you work for?')"
      ]
     },
     "execution_count": 158,
     "metadata": {},
     "output_type": "execute_result"
    },
    {
     "data": {
      "image/png": "[encoded data removed]",
      "text/plain": [
       "<Figure size 1152x432 with 1 Axes>"
      ]
     },
     "metadata": {
      "needs_background": "light"
     },
     "output_type": "display_data"
    }
   ],
   "source": [
    "# Hypothesis 5\n",
    "# Almost everyone who works for government has insurance.\n",
    "# Explore Q9  vs  insurance\n",
    "\n",
    "plt.figure(figsize=(16, 6))\n",
    "sns.countplot('Q9', hue= 'insurance', data=data)\n",
    "plt.xticks(\n",
    "    fontweight='light',\n",
    "    fontsize='x-large'  \n",
    ")\n",
    "plt.xlabel('Who do you work for?')"
   ]
  },
  {
   "cell_type": "markdown",
   "id": "46dab157",
   "metadata": {},
   "source": [
    "##### Where;\n",
    "-1 - not applicable\n",
    "\n",
    "1 - Government\n",
    "\n",
    "2 - Private company/business\n",
    "\n",
    "3 - Individual who owns his own business\n",
    "\n",
    "4 - Small scale farmer\n",
    "\n",
    "5 - Commercial farmer \n",
    "\n",
    "6 - Work for individual/household e.g. security guard, maid etc. \n",
    "\n",
    "7 - Other\n",
    "##### And;\n",
    "1 - Yes\n",
    "\n",
    "0 - No\n"
   ]
  },
  {
   "cell_type": "markdown",
   "id": "c73d31f3",
   "metadata": {},
   "source": [
    "### Hypothesis Results\n",
    "1.People with age above 60 will not have both mobile money and other financial service - TRUE\n",
    "\n",
    "2.People with lower education level are more likely to possess mobile money - TRUE\n",
    "\n",
    "3.People with no mobile phones are most likely to not use mobile money - TRUE\n",
    "\n",
    "4.Almost everyone who gets money through salaries/wages is less likely to use mobile money only - TRUE\n",
    "\n",
    "5.Almost everyone who works for government has insurance - TRUE"
   ]
  }
 ],
 "metadata": {
  "kernelspec": {
   "display_name": "Python 3 (ipykernel)",
   "language": "python",
   "name": "python3"
  },
  "language_info": {
   "codemirror_mode": {
    "name": "ipython",
    "version": 3
   },
   "file_extension": ".py",
   "mimetype": "text/x-python",
   "name": "python",
   "nbconvert_exporter": "python",
   "pygments_lexer": "ipython3",
   "version": "3.9.12"
  }
 },
 "nbformat": 4,
 "nbformat_minor": 5
}
